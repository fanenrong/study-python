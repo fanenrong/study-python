{
 "cells": [
  {
   "cell_type": "code",
   "execution_count": 1,
   "id": "da2d2c4b",
   "metadata": {},
   "outputs": [
    {
     "name": "stdout",
     "output_type": "stream",
     "text": [
      "Jimi, Hendrix\n"
     ]
    }
   ],
   "source": [
    "def get_formatted_name(first_name, last_name):\n",
    "    \"\"\"返回整洁的姓名。 \"\"\"\n",
    "    full_name = f\"{first_name}, {last_name}\"\n",
    "    return full_name.title()\n",
    "musician = get_formatted_name('jimi', 'hendrix')\n",
    "print(musician)"
   ]
  },
  {
   "cell_type": "code",
   "execution_count": 2,
   "id": "e8f4b48e",
   "metadata": {},
   "outputs": [
    {
     "name": "stdout",
     "output_type": "stream",
     "text": [
      "John Lee Hooker\n"
     ]
    }
   ],
   "source": [
    "def get_formatted_name(first_name, middle_name, last_name):\n",
    "    \"\"\"返回整洁的姓名。\"\"\"\n",
    "    full_name = f\"{first_name} {middle_name} {last_name}\"\n",
    "    return full_name.title()\n",
    "musician = get_formatted_name('john', 'lee', 'hooker')\n",
    "print(musician)"
   ]
  },
  {
   "cell_type": "code",
   "execution_count": 3,
   "id": "ac16280e",
   "metadata": {},
   "outputs": [
    {
     "name": "stdout",
     "output_type": "stream",
     "text": [
      "Jimi Hendrix\n",
      "John Lee Hooker\n"
     ]
    }
   ],
   "source": [
    "def get_formatted_name(first_name, last_name, middle_name=''):\n",
    "    \"\"\"返回整洁的姓名。\"\"\"\n",
    "    if middle_name:\n",
    "        full_name = f\"{first_name} {middle_name} {last_name}\"\n",
    "    else:\n",
    "        full_name = f\"{first_name} {last_name}\"\n",
    "    return full_name.title()\n",
    "musician = get_formatted_name('jimi', 'hendrix')\n",
    "print(musician)\n",
    "musician = get_formatted_name('john', 'hooker', 'lee')\n",
    "print(musician)"
   ]
  },
  {
   "cell_type": "code",
   "execution_count": 4,
   "id": "f8d6c139",
   "metadata": {},
   "outputs": [
    {
     "name": "stdout",
     "output_type": "stream",
     "text": [
      "{'first': 'jimi', 'last': 'hendrix'}\n"
     ]
    }
   ],
   "source": [
    "def build_person(first_name, last_name):\n",
    "    \"\"\"返回一个字典，其中到含有关一个人的信息\"\"\"\n",
    "    person = {'first': first_name, 'last':last_name}\n",
    "    return person\n",
    "musician = build_person('jimi', 'hendrix')\n",
    "print(musician)"
   ]
  },
  {
   "cell_type": "code",
   "execution_count": 5,
   "id": "8937a63a",
   "metadata": {},
   "outputs": [
    {
     "name": "stdout",
     "output_type": "stream",
     "text": [
      "{'first': 'jini', 'last': ' hendrix', 'age': 27}\n"
     ]
    }
   ],
   "source": [
    "def build_person(first_name, last_name, age=None):\n",
    "    \"\"\"返回一个字典，其中到含有关一个人的信息\"\"\"\n",
    "    person = {'first':  first_name,'last': last_name}\n",
    "    if age:\n",
    "        person['age'] = age\n",
    "    return person\n",
    "musician = build_person('jini', ' hendrix', age=27)\n",
    "print(musician)"
   ]
  },
  {
   "cell_type": "code",
   "execution_count": 658,
   "id": "737e4e52",
   "metadata": {},
   "outputs": [],
   "source": [
    "#def get_formatted_name(first_name, last_name):\n",
    "#\"\"\"返回整洁的姓名。\"\"\"\n",
    " #   full_name = f\"{first_name} {last_name}\"\n",
    "  #  return full_name.title()\n",
    "# 这是一个无限循环！\n",
    "#while True:\n",
    "    #print(\"\\nPlease till me your name:\")\n",
    "    #f_name = input (\"First name:  \")\n",
    "    #l_name = input(\"last name:  \")\n",
    "    #formatted_name = get_formatted_name(f_name, l_name)\n",
    "    #print(f\"\\nHell, {formatted_name}!\")"
   ]
  },
  {
   "cell_type": "code",
   "execution_count": 7,
   "id": "8e4e02df",
   "metadata": {},
   "outputs": [
    {
     "name": "stdout",
     "output_type": "stream",
     "text": [
      "\n",
      "Please till me your name:\n",
      "(enter ;q) at any time to quit)\n",
      "First name:  f\n",
      "Last namef\n",
      "\n",
      "Hello, F F!\n",
      "\n",
      "Please till me your name:\n",
      "(enter ;q) at any time to quit)\n",
      "First name:  quit\n",
      "Last nameq\n"
     ]
    }
   ],
   "source": [
    "def get_formatted_name(first_name, last_name):\n",
    "    \"\"\"返回整洁的姓名。\"\"\"\n",
    "    full_name = f\"{first_name} {last_name}\"\n",
    "    return full_name.title()\n",
    "while True:\n",
    "    print(\"\\nPlease till me your name:\")\n",
    "    print(\"(enter ;q) at any time to quit)\")\n",
    "    f_name = input(\"First name:  \")\n",
    "    if f_name == 'q':\n",
    "        break\n",
    "    l_name = input(\"Last name\")\n",
    "    if l_name == 'q':\n",
    "        break\n",
    "    formatted_name = get_formatted_name(f_name, l_name)\n",
    "    print(f\"\\nHello, {formatted_name}!\")"
   ]
  },
  {
   "cell_type": "code",
   "execution_count": null,
   "id": "b151a156",
   "metadata": {},
   "outputs": [],
   "source": []
  }
 ],
 "metadata": {
  "kernelspec": {
   "display_name": "Python 3 (ipykernel)",
   "language": "python",
   "name": "python3"
  },
  "language_info": {
   "codemirror_mode": {
    "name": "ipython",
    "version": 3
   },
   "file_extension": ".py",
   "mimetype": "text/x-python",
   "name": "python",
   "nbconvert_exporter": "python",
   "pygments_lexer": "ipython3",
   "version": "3.9.12"
  }
 },
 "nbformat": 4,
 "nbformat_minor": 5
}
