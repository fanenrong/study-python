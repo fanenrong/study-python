{
 "cells": [
  {
   "cell_type": "code",
   "execution_count": 1,
   "id": "df44959e",
   "metadata": {},
   "outputs": [
    {
     "name": "stdout",
     "output_type": "stream",
     "text": [
      "{'color': 'green', 'points': '5'}\n",
      "{'color': 'yellow', 'points': '10'}\n",
      "{'color': 'red', 'points': '15'}\n"
     ]
    }
   ],
   "source": [
    "alien_0 = {'color': 'green', 'points': '5'}\n",
    "alien_1 = {'color': 'yellow', 'points': '10'}\n",
    "alien_2 = {'color': 'red', 'points': '15'}\n",
    "aliens = [alien_0, alien_1, alien_2]\n",
    "for alien in aliens:\n",
    "    print(alien)"
   ]
  },
  {
   "cell_type": "code",
   "execution_count": 2,
   "id": "ba3d1d3b",
   "metadata": {},
   "outputs": [
    {
     "name": "stdout",
     "output_type": "stream",
     "text": [
      "\n",
      "{'color': 'green', 'points': '5'}\n",
      "{'color': 'yellow', 'points': '10'}\n",
      "{'color': 'red', 'points': '15'}\n",
      "{'color': 'green', 'point': '5'}\n",
      "{'color': 'green', 'point': '5'}\n",
      "...\n",
      "\n",
      "Total number of aliens: 33\n"
     ]
    }
   ],
   "source": [
    "# 创建一个用于储存外星人的空列表。\n",
    "alien = []\n",
    "#创建30个绿色的外星人。\n",
    "for alien_number in range(30):\n",
    "    new_alien = {'color': 'green', 'point': '5'}\n",
    "    aliens.append(new_alien)\n",
    "print()\n",
    "#显示前五个外星人。\n",
    "for alien in aliens[:5]:\n",
    "    print(alien)\n",
    "print(\"...\")\n",
    "print()\n",
    "#显示创建了多少个外星人。\n",
    "print(f\"Total number of aliens: {len(aliens)}\")"
   ]
  },
  {
   "cell_type": "code",
   "execution_count": 3,
   "id": "a6345412",
   "metadata": {},
   "outputs": [
    {
     "name": "stdout",
     "output_type": "stream",
     "text": [
      "\tJen's favorite languages are:\n",
      "\tPython\n",
      "\tRuby\n",
      "\tSarah's favorite languages are:\n",
      "\tC\n",
      "\tEdward's favorite languages are:\n",
      "\tRuby\n",
      "\tGo\n",
      "\tPhil's favorite languages are:\n",
      "\tPython\n",
      "\tHaskell\n"
     ]
    }
   ],
   "source": [
    "favorite_languages = {\n",
    "    'jen': ['python', 'ruby'],\n",
    "    'sarah': ['c'],\n",
    "    'edward': ['ruby', 'go'],\n",
    "    'phil': ['python', 'haskell']\n",
    "}\n",
    "for name, languages in favorite_languages.items():\n",
    "    print(f\"\\t{name.title()}'s favorite languages are:\")\n",
    "    for language in languages:\n",
    "        print(f\"\\t{language.title()}\")"
   ]
  },
  {
   "cell_type": "code",
   "execution_count": 4,
   "id": "e7e960a4",
   "metadata": {},
   "outputs": [
    {
     "name": "stdout",
     "output_type": "stream",
     "text": [
      "\n",
      "Username: aeinstein\n",
      "\r",
      "Full name: Albert Einstein\n",
      "\r",
      "Lovation: Princeton\n",
      "\n",
      "Username: mcurle\n",
      "\r",
      "Full name: Marie Curie\n",
      "\r",
      "Lovation: Paris\n"
     ]
    }
   ],
   "source": [
    "users = {\n",
    "    'aeinstein': {\n",
    "        'first': 'albert',\n",
    "        'last': 'einstein',\n",
    "        'location': 'princeton',\n",
    "    },\n",
    "    'mcurle': {\n",
    "        'first': 'marie',\n",
    "        'last': 'curie',\n",
    "        'location':'paris',\n",
    "    },\n",
    "}\n",
    "for username, user_info in users.items():\n",
    "    print(f\"\\nUsername: {username}\")\n",
    "    full_name = f\"{user_info['first']} {user_info['last']}\"\n",
    "    location = user_info['location']\n",
    "    print(f\"\\rFull name: {full_name.title()}\")\n",
    "    print(f\"\\rLovation: {location.title()}\")"
   ]
  },
  {
   "cell_type": "code",
   "execution_count": null,
   "id": "5310fd6b",
   "metadata": {},
   "outputs": [],
   "source": []
  }
 ],
 "metadata": {
  "kernelspec": {
   "display_name": "Python 3 (ipykernel)",
   "language": "python",
   "name": "python3"
  },
  "language_info": {
   "codemirror_mode": {
    "name": "ipython",
    "version": 3
   },
   "file_extension": ".py",
   "mimetype": "text/x-python",
   "name": "python",
   "nbconvert_exporter": "python",
   "pygments_lexer": "ipython3",
   "version": "3.9.12"
  }
 },
 "nbformat": 4,
 "nbformat_minor": 5
}
