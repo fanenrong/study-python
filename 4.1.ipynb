{
 "cells": [
  {
   "cell_type": "code",
   "execution_count": 7,
   "id": "40dc7284",
   "metadata": {},
   "outputs": [
    {
     "name": "stdout",
     "output_type": "stream",
     "text": [
      "alice\n",
      "david\n",
      "carolina\n"
     ]
    }
   ],
   "source": [
    "magicians = ['alice', 'david', 'carolina']\n",
    "for magician in magicians:\n",
    "    print(magician)"
   ]
  },
  {
   "cell_type": "code",
   "execution_count": 2,
   "id": "bfe4c6d2",
   "metadata": {},
   "outputs": [
    {
     "name": "stdout",
     "output_type": "stream",
     "text": [
      "Alice, that was a great trick\n",
      "David, that was a great trick\n",
      "Carolina, that was a great trick\n"
     ]
    }
   ],
   "source": [
    "magicians = ['alice', 'david', 'carolina']\n",
    "for magician in magicians:\n",
    "    print(f\"{magician.title()}, that was a great trick\")"
   ]
  },
  {
   "cell_type": "code",
   "execution_count": 3,
   "id": "87526996",
   "metadata": {},
   "outputs": [
    {
     "name": "stdout",
     "output_type": "stream",
     "text": [
      "alice\n",
      "I can't wait to see you next trick, Alice.\n",
      "\n",
      "david\n",
      "I can't wait to see you next trick, David.\n",
      "\n",
      "carolina\n",
      "I can't wait to see you next trick, Carolina.\n",
      "\n"
     ]
    }
   ],
   "source": [
    "magicians = ['alice', 'david', 'carolina']\n",
    "for magician in magicians:\n",
    "    print(magician)\n",
    "    print(f\"I can't wait to see you next trick, {magician.title()}.\\n\")"
   ]
  },
  {
   "cell_type": "code",
   "execution_count": 4,
   "id": "b872edc9",
   "metadata": {},
   "outputs": [
    {
     "name": "stdout",
     "output_type": "stream",
     "text": [
      "alice\n",
      "I can't wait to see you next trick, Alice.\n",
      "\n",
      "david\n",
      "I can't wait to see you next trick, David.\n",
      "\n",
      "carolina\n",
      "I can't wait to see you next trick, Carolina.\n",
      "\n",
      "Think you, everyone. That was a great magic show! \n"
     ]
    }
   ],
   "source": [
    "magicians = ['alice', 'david', 'carolina']\n",
    "for magician in magicians:\n",
    "    print(magician)\n",
    "    print(f\"I can't wait to see you next trick, {magician.title()}.\\n\")\n",
    "print(\"Think you, everyone. That was a great magic show! \")"
   ]
  },
  {
   "cell_type": "code",
   "execution_count": null,
   "id": "accfa4b4",
   "metadata": {},
   "outputs": [],
   "source": []
  }
 ],
 "metadata": {
  "kernelspec": {
   "display_name": "Python 3 (ipykernel)",
   "language": "python",
   "name": "python3"
  },
  "language_info": {
   "codemirror_mode": {
    "name": "ipython",
    "version": 3
   },
   "file_extension": ".py",
   "mimetype": "text/x-python",
   "name": "python",
   "nbconvert_exporter": "python",
   "pygments_lexer": "ipython3",
   "version": "3.9.12"
  }
 },
 "nbformat": 4,
 "nbformat_minor": 5
}
